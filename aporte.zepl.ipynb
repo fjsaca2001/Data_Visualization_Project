﻿{
  "metadata": {
    "name": "Aporte",
    "kernelspec": {
      "display_name": "Scala",
      "language": "scala",
      "name": "spark2-scala"
    },
    "language_info": {
      "codemirror_mode": "text/x-scala",
      "file_extension": ".scala",
      "mimetype": "text/x-scala",
      "name": "scala",
      "pygments_lexer": "scala"
    }
  },
  "nbformat": 4,
  "nbformat_minor": 2,
  "cells": [
    {
      "cell_type": "code",
      "execution_count": 0,
      "metadata": {
        "autoscroll": "auto"
      },
      "outputs": [],
      "source": "// Carga del DataFrame\nval data \u003d spark\n    .read\n    .option(\"inferSchema\", \"true\")\n    .option(\"header\", \"true\")\n    .option(\"delimiter\", \"\\t\")\n    .csv(\"/Users/royerjmasache/Documents/fourthGrade/pAdvance/secondPeriod/project/Datos_ENEMDU_PEA_v2.csv\")"
    },
    {
      "cell_type": "code",
      "execution_count": 1,
      "metadata": {
        "autoscroll": "auto"
      },
      "outputs": [],
      "source": "// Definición del esquema de forma programable\nimport org.apache.spark.sql.types._\nval dataSchema \u003d StructType(\n    Array(\n        StructField(\"id\", DecimalType(26, 0), true),\n        StructField(\"year\", IntegerType, true),\n        StructField(\"month\", IntegerType, true),\n        StructField(\"province\", IntegerType, true),\n        StructField(\"canton\", IntegerType, true),\n        StructField(\"area\", StringType, true),\n        StructField(\"gender\", StringType, true),\n        StructField(\"age\", IntegerType, true),\n        StructField(\"status\", StringType, true),\n        StructField(\"instruction\", StringType, true),\n        StructField(\"ethnicity\", StringType, true),\n        StructField(\"salary\", IntegerType, true),\n        StructField(\"condition\", StringType, true),\n        StructField(\"sectorization\", StringType, true),\n        StructField(\"occupation\", StringType, true),\n        StructField(\"branch\", StringType, true),\n        StructField(\"factor\", DoubleType, true)\n    ));"
    },
    {
      "cell_type": "code",
      "execution_count": 2,
      "metadata": {
        "autoscroll": "auto"
      },
      "outputs": [],
      "source": "// Envío de esquema\nval data \u003d spark\n    .read\n    .schema(dataSchema)\n    .option(\"header\", \"true\")\n    .option(\"delimiter\", \"\\t\")\n    .csv(\"/Users/royerjmasache/Documents/fourthGrade/pAdvance/secondPeriod/project/Datos_ENEMDU_PEA_v2.csv\");"
    },
    {
      "cell_type": "code",
      "execution_count": 3,
      "metadata": {
        "autoscroll": "auto"
      },
      "outputs": [],
      "source": "// Impresión del esquema\ndata.printSchema\n// Impresión de la construcción del esquema\ndata.schema"
    },
    {
      "cell_type": "code",
      "execution_count": 4,
      "metadata": {
        "autoscroll": "auto"
      },
      "outputs": [],
      "source": "// Visualización de columna elegida\ndata.select(\"branch\").distinct().sort(\"branch\").show(false)"
    },
    {
      "cell_type": "code",
      "execution_count": 5,
      "metadata": {
        "autoscroll": "auto"
      },
      "outputs": [],
      "source": "// Sentencia para obtener la cantidad de personas con una Instrucción Superior Universitario en la rama 13\ndata.select(\"branch\", \"instruction\").where($\"branch\" \u003d\u003d\u003d \"13 - M. Actividades profesionales, científicas y técnicas\" \u0026\u0026 $\"instruction\" \u003d\u003d\u003d \"09 - Superior Universitario\").groupBy(\"branch\").count().show(false)"
    },
    {
      "cell_type": "code",
      "execution_count": 6,
      "metadata": {
        "autoscroll": "auto"
      },
      "outputs": [],
      "source": "// Sentencia para obtener el % respecto a los datos totales de personas que ocupan el puesto de Profesionales científicos e intelectuales en la rama 13\nval group \u003d data.where($\"branch\" \u003d\u003d\u003d \"13 - M. Actividades profesionales, científicas y técnicas\" \u0026\u0026 $\"occupation\" \u003d\u003d\u003d \"02 - Profesionales científicos e intelectuales\")\nprintln(group.count)\nprintln(f\"${(group.count / data.select(\"branch\").count.toDouble) * 100}%.2f%% Porcentaje de Profesionales científicos e intelectuales del total de datos\")\n\n"
    },
    {
      "cell_type": "code",
      "execution_count": 7,
      "metadata": {
        "autoscroll": "auto"
      },
      "outputs": [],
      "source": "// Sentencia para obtener las personas pertenecinetes a la rama 3 con instrución Post-grado, solteros/as y con sueldo \u003e\u003d 3000\nval success \u003d data.filter($\"branch\" \u003d\u003d\u003d \"13 - M. Actividades profesionales, científicas y técnicas\" \u0026\u0026 $\"instruction\" \u003d\u003d\u003d \"10 - Post-grado\")\nsuccess.where($\"salary\" \u003e\u003d  3000 \u0026\u0026 $\"status\"\u003d\u003d\u003d \"6 - Soltero(a)\").groupBy(\"branch\").count().show(false)"
    },
    {
      "cell_type": "code",
      "execution_count": 8,
      "metadata": {
        "autoscroll": "auto"
      },
      "outputs": [],
      "source": "// Sentencia para obtener la cantidad y el orden de los estados civiles de las personas que ocupan la rama 11\nval filter \u003d data.filter($\"branch\" \u003d\u003d\u003d \"11 - K. Actividades financieras y de seguros\")\nprintln(filter.count)\nfilter.where($\"status\" \u003d\u003d\u003d \"1 - Casado(a)\" || $\"status\" \u003d\u003d\u003d \"2 - Separado(a)\" || $\"status\" \u003d\u003d\u003d \"3 - Divorciado(a)\" || $\"status\" \u003d\u003d\u003d \"4 - Viudo(a)\" || $\"status\" \u003d\u003d\u003d \"5 - Unión libre\" || $\"status\" \u003d\u003d\u003d \"6 - Soltero(a)\").groupBy(\"status\").count().sort(desc(\"count\")).show(false)"
    }
  ]
}
