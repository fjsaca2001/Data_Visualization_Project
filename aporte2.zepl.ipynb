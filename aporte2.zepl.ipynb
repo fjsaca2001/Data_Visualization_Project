﻿{
  "metadata": {
    "name": "Aporte2",
    "kernelspec": {
      "display_name": "Scala",
      "language": "scala",
      "name": "spark2-scala"
    },
    "language_info": {
      "codemirror_mode": "text/x-scala",
      "file_extension": ".scala",
      "mimetype": "text/x-scala",
      "name": "scala",
      "pygments_lexer": "scala"
    }
  },
  "nbformat": 4,
  "nbformat_minor": 2,
  "cells": [
    {
      "cell_type": "code",
      "execution_count": 0,
      "metadata": {
        "autoscroll": "auto"
      },
      "outputs": [],
      "source": "val data \u003d spark\n    .read\n    .option(\"inferSchema\", \"true\")\n    .option(\"header\", \"true\")\n    .option(\"delimiter\", \"\\t\")\n    .csv(\"/Users/royerjmasache/Documents/course4/pAdvance/secondPeriod/project/Datos_ENEMDU_PEA_v2.csv\")"
    },
    {
      "cell_type": "code",
      "execution_count": 1,
      "metadata": {
        "autoscroll": "auto"
      },
      "outputs": [],
      "source": "// Definición del esquema de forma programable\nimport org.apache.spark.sql.types._\nval dataSchema \u003d StructType(\n    Array(\n        StructField(\"id\", DecimalType(26, 0), true),\n        StructField(\"year\", IntegerType, true),\n        StructField(\"month\", IntegerType, true),\n        StructField(\"province\", IntegerType, true),\n        StructField(\"canton\", IntegerType, true),\n        StructField(\"area\", StringType, true),\n        StructField(\"gender\", StringType, true),\n        StructField(\"age\", IntegerType, true),\n        StructField(\"status\", StringType, true),\n        StructField(\"instruction\", StringType, true),\n        StructField(\"ethnicity\", StringType, true),\n        StructField(\"salary\", IntegerType, true),\n        StructField(\"condition\", StringType, true),\n        StructField(\"sectorization\", StringType, true),\n        StructField(\"occupation\", StringType, true),\n        StructField(\"branch\", StringType, true),\n        StructField(\"factor\", DoubleType, true)\n    ));"
    },
    {
      "cell_type": "code",
      "execution_count": 2,
      "metadata": {
        "autoscroll": "auto"
      },
      "outputs": [],
      "source": "// Envío de esquema\nval data \u003d spark\n    .read\n    .schema(dataSchema)\n    .option(\"header\", \"true\")\n    .option(\"delimiter\", \"\\t\")\n    .csv(\"/Users/royerjmasache/Documents/course4/pAdvance/secondPeriod/project/Datos_ENEMDU_PEA_v2.csv\");"
    },
    {
      "cell_type": "code",
      "execution_count": 3,
      "metadata": {
        "autoscroll": "auto"
      },
      "outputs": [],
      "source": "// Uso de crosstab para que la información sea más comprensible (columna relacionada ampliada)\nval academic \u003d data.select(\"branch\", \"instruction\").where($\"branch\" \u003d\u003d\u003d \"13 - M. Actividades profesionales, científicas y técnicas\")\nhigher2.groupBy(\"branch\").count().show(false)\n\nval cross \u003d higher2.stat.crosstab(\"branch\", \"instruction\").orderBy(\"branch_instruction\")\ncross.show()\nacademic.groupBy(\"branch\").pivot(\"instruction\").count().orderBy(\"branch\").show()"
    },
    {
      "cell_type": "code",
      "execution_count": 4,
      "metadata": {
        "autoscroll": "auto"
      },
      "outputs": [],
      "source": "z.show(higher2.groupBy(\"branch\").pivot(\"instruction\").count.orderBy(\"branch\"))"
    },
    {
      "cell_type": "code",
      "execution_count": 5,
      "metadata": {
        "autoscroll": "auto"
      },
      "outputs": [],
      "source": "val group2 \u003d data.select(\"branch\", \"occupation\").where($\"branch\" \u003d\u003d\u003d \"13 - M. Actividades profesionales, científicas y técnicas\")\ngroup.count()\nval total \u003d (group.count() / group2.count().toDouble) * 100\nprintf(\"El porcentaje respecto al total de la rama es de %.2f %%\\n\", total)"
    },
    {
      "cell_type": "code",
      "execution_count": 6,
      "metadata": {
        "autoscroll": "auto"
      },
      "outputs": [],
      "source": "z.show(group2.groupBy(\"branch\").pivot(\"occupation\").count().orderBy(\"branch\"))\n"
    },
    {
      "cell_type": "code",
      "execution_count": 7,
      "metadata": {
        "autoscroll": "auto"
      },
      "outputs": [],
      "source": "// val success \u003d data.filter($\"branch\" \u003d\u003d\u003d \"13 - M. Actividades profesionales, científicas y técnicas\" \u0026\u0026 $\"instruction\" \u003d\u003d\u003d \"10 - Post-grado\")\n// success.where($\"salary\" \u003e\u003d  3000 \u0026\u0026 $\"status\"\u003d\u003d\u003d \"6 - Soltero(a)\").groupBy(\"branch\").count().show(false)\n\nval success2 \u003d data.select(\"branch\", \"instruction\").where($\"instruction\" \u003d\u003d\u003d \"10 - Post-grado\" \u0026\u0026 $\"salary\" \u003e\u003d  3000 \u0026\u0026 $\"status\"\u003d\u003d\u003d \"6 - Soltero(a)\").sort(asc(\"branch\"))\n\n"
    },
    {
      "cell_type": "code",
      "execution_count": 8,
      "metadata": {
        "autoscroll": "auto"
      },
      "outputs": [],
      "source": "z.show(success2.groupBy(\"branch\").pivot(\"instruction\").count().orderBy(\"branch\"))"
    },
    {
      "cell_type": "code",
      "execution_count": 9,
      "metadata": {
        "autoscroll": "auto"
      },
      "outputs": [],
      "source": "val filter \u003d data.filter($\"branch\" \u003d\u003d\u003d \"11 - K. Actividades financieras y de seguros\")\nfilter.where($\"status\" \u003d\u003d\u003d \"1 - Casado(a)\" || $\"status\" \u003d\u003d\u003d \"2 - Separado(a)\" || $\"status\" \u003d\u003d\u003d \"3 - Divorciado(a)\" || $\"status\" \u003d\u003d\u003d \"4 - Viudo(a)\" || $\"status\" \u003d\u003d\u003d \"5 - Unión libre\" || $\"status\" \u003d\u003d\u003d \"6 - Soltero(a)\").groupBy(\"status\").count().sort(desc(\"count\")).show(false)"
    },
    {
      "cell_type": "code",
      "execution_count": 10,
      "metadata": {
        "autoscroll": "auto"
      },
      "outputs": [],
      "source": "z.show(filter.groupBy(\"branch\").pivot(\"status\").count().orderBy(\"branch\"))"
    }
  ]
}