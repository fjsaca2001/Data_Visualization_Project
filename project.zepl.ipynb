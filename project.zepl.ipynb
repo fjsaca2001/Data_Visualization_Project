﻿{
  "metadata": {
    "name": "Project",
    "kernelspec": {
      "display_name": "scala",
      "language": "scala",
      "name": "spark2-scala"
    },
    "language_info": {
      "codemirror_mode": "text/x-scala",
      "file_extension": ".scala",
      "mimetype": "text/x-scala",
      "name": "scala",
      "pygments_lexer": "scala"
    }
  },
  "nbformat": 4,
  "nbformat_minor": 2,
  "cells": [
    {
      "cell_type": "code",
      "execution_count": 0,
      "metadata": {
        "autoscroll": "auto"
      },
      "outputs": [],
      "source": "// Carga del DataFrame\nval data \u003d spark\n    .read\n    .option(\"inferSchema\", \"true\")\n    .option(\"header\", \"true\")\n    .option(\"delimiter\", \"\\t\")\n    .csv(\"/Users/royerjmasache/Documents/fourthGrade/pAdvance/secondPeriod/project/Datos_ENEMDU_PEA_v2.csv\")"
    },
    {
      "cell_type": "code",
      "execution_count": 1,
      "metadata": {
        "autoscroll": "auto"
      },
      "outputs": [],
      "source": "// Definición del esquema de forma programable\nimport org.apache.spark.sql.types._\nval dataSchema \u003d StructType(\n    Array(\n        StructField(\"id\", DecimalType(26, 0), true),\n        StructField(\"year\", IntegerType, true),\n        StructField(\"month\", IntegerType, true),\n        StructField(\"province\", IntegerType, true),\n        StructField(\"canton\", IntegerType, true),\n        StructField(\"area\", StringType, true),\n        StructField(\"gender\", StringType, true),\n        StructField(\"age\", IntegerType, true),\n        StructField(\"status\", StringType, true),\n        StructField(\"instruction\", StringType, true),\n        StructField(\"ethnicity\", StringType, true),\n        StructField(\"salary\", IntegerType, true),\n        StructField(\"condition\", StringType, true),\n        StructField(\"sectorization\", StringType, true),\n        StructField(\"occupation\", StringType, true),\n        StructField(\"branch\", StringType, true),\n        StructField(\"factor\", DoubleType, true)\n    ));"
    },
    {
      "cell_type": "code",
      "execution_count": 2,
      "metadata": {
        "autoscroll": "auto"
      },
      "outputs": [],
      "source": "// Envío de esquema\nval data \u003d spark\n    .read\n    .schema(dataSchema)\n    .option(\"header\", \"true\")\n    .option(\"delimiter\", \"\\t\")\n    .csv(\"/Users/royerjmasache/Documents/fourthGrade/pAdvance/secondPeriod/project/Datos_ENEMDU_PEA_v2.csv\");"
    },
    {
      "cell_type": "code",
      "execution_count": 3,
      "metadata": {
        "autoscroll": "auto"
      },
      "outputs": [],
      "source": "// Impresión del esquema\ndata.printSchema\n// Impresión de la construcción del esquema\ndata.schema\n// Visualización de columna elegida\ndata.select(\"branch\").distinct().sort(\"branch\").show(false)"
    },
    {
      "cell_type": "code",
      "execution_count": 4,
      "metadata": {
        "autoscroll": "auto"
      },
      "outputs": [],
      "source": "// 1. ¿Cuántas personas de etnia \"indigena\" podemos encontrar en la rama: P enseñanza?\ndata.where($\"branch\" \u003d\u003d\u003d \"16 - P. Enseñanza\" \u0026\u0026 $\"ethnicity\" \u003d\u003d\u003d \"1 - Indígena\").groupBy(\"ethnicity\").count.show"
    },
    {
      "cell_type": "code",
      "execution_count": 5,
      "metadata": {
        "autoscroll": "auto"
      },
      "outputs": [],
      "source": "// 2. ¿Cuántas mujeres pertenecen a la rama: F. construccion?\ndata.select(\"branch\",\"gender\").where($\"gender\" \u003d\u003d\u003d \"2 - Mujer\" \u0026\u0026 $\"branch\" \u003d\u003d\u003d \"06 - F. Construcción\").count\ndata.where($\"branch\".isNull).count"
    },
    {
      "cell_type": "code",
      "execution_count": 6,
      "metadata": {
        "autoscroll": "auto"
      },
      "outputs": [],
      "source": "// 3. ¿Cuál es la media de edad de trabajadores que estan en el area: No especificado?\nval edadNoespecificado \u003d data.select(\"age\").where($\"branch\" \u003d\u003d\u003d \"22 - No especificado\")\nedadNoespecificado.select(mean(\"age\")).show;"
    },
    {
      "cell_type": "code",
      "execution_count": 7,
      "metadata": {
        "autoscroll": "auto"
      },
      "outputs": [],
      "source": "// 4. ¿Cuál es el sueldo maximo que se gana en la rama: A. Agricultura, ganadería caza y silvicultura y pesca?\nval dataAgri \u003d data.select(\"salary\").where($\"branch\" \u003d\u003d\u003d \"01 - A. Agricultura, ganadería caza y silvicultura y pesca\")\ndataAgri.select(min(\"salary\") as(\"Sueldo Minimo\"), max(\"salary\") as(\"Sueldo Maximo\")).show"
    },
    {
      "cell_type": "code",
      "execution_count": 8,
      "metadata": {
        "autoscroll": "auto"
      },
      "outputs": [],
      "source": "// 5. ¿Cuántas personas poseen una instrucción Superior Universitario en la rama 13?\ndata.select(\"branch\", \"instruction\").where($\"branch\" \u003d\u003d\u003d \"13 - M. Actividades profesionales, científicas y técnicas\" \u0026\u0026 $\"instruction\" \u003d\u003d\u003d \"09 - Superior Universitario\").groupBy(\"branch\").count().show(false)"
    },
    {
      "cell_type": "code",
      "execution_count": 9,
      "metadata": {
        "autoscroll": "auto"
      },
      "outputs": [],
      "source": "// 6. ¿Qué cantidad y qué porcentaje con respecto al total ocupan las personas con ocupación 02 dentro de la rama 13?\nval group \u003d data.where($\"branch\" \u003d\u003d\u003d \"13 - M. Actividades profesionales, científicas y técnicas\" \u0026\u0026 $\"occupation\" \u003d\u003d\u003d \"02 - Profesionales científicos e intelectuales\")\nprintln(group.count)\nprintln(f\"${(group.count / data.select(\"branch\").count.toDouble) * 100}%.2f%% Porcentaje de Profesionales científicos e intelectuales del total de datos\")\n"
    },
    {
      "cell_type": "code",
      "execution_count": 10,
      "metadata": {
        "autoscroll": "auto"
      },
      "outputs": [],
      "source": "// 7. ¿Cuántas personas existen pertenecientes a la rama 13 con un Post-grado, solteros y con un sueldo \u003e\u003d 3000?\nval success \u003d data.filter($\"branch\" \u003d\u003d\u003d \"13 - M. Actividades profesionales, científicas y técnicas\" \u0026\u0026 $\"instruction\" \u003d\u003d\u003d \"10 - Post-grado\")\nsuccess.where($\"salary\" \u003e\u003d  3000 \u0026\u0026 $\"status\"\u003d\u003d\u003d \"6 - Soltero(a)\").groupBy(\"branch\").count().show(false)"
    },
    {
      "cell_type": "code",
      "execution_count": 11,
      "metadata": {
        "autoscroll": "auto"
      },
      "outputs": [],
      "source": "// 8. ¿En qué cantidad y orden se encuentran las personas que ocupan la rama 11?\nval filter \u003d data.filter($\"branch\" \u003d\u003d\u003d \"11 - K. Actividades financieras y de seguros\")\nprintln(filter.count)\nfilter.where($\"status\" \u003d\u003d\u003d \"1 - Casado(a)\" || $\"status\" \u003d\u003d\u003d \"2 - Separado(a)\" || $\"status\" \u003d\u003d\u003d \"3 - Divorciado(a)\" || $\"status\" \u003d\u003d\u003d \"4 - Viudo(a)\" || $\"status\" \u003d\u003d\u003d \"5 - Unión libre\" || $\"status\" \u003d\u003d\u003d \"6 - Soltero(a)\").groupBy(\"status\").count().sort(desc(\"count\")).show(false)"
    },
    {
      "cell_type": "code",
      "execution_count": 12,
      "metadata": {
        "autoscroll": "auto"
      },
      "outputs": [],
      "source": "// 9. Número de personas que pertencen a loja y a la rama Agricultura, ganadería caza y silvicultura y pesca\ndata.where($\"branch\" \u003d\u003d\u003d \"01 - A. Agricultura, ganadería caza y silvicultura y pesca\" \u0026\u0026 $\"province\" \u003d\u003d\u003d 11).groupBy(\"province\").count().show(false)"
    },
    {
      "cell_type": "code",
      "execution_count": 13,
      "metadata": {
        "autoscroll": "auto"
      },
      "outputs": [],
      "source": "// 10. Edad mínima para trabajar en la rama información y comunicación\nval minedad \u003d data.select(\"age\").where($\"branch\" \u003d\u003d\u003d \"10 - J. Información y comunicación\")\nminedad.select(min(\"age\")).show"
    },
    {
      "cell_type": "code",
      "execution_count": 14,
      "metadata": {
        "autoscroll": "auto"
      },
      "outputs": [],
      "source": "// 11. ¿Cuántas mujeres están dentro de transporte y almacenamiento?\ndata.select(\"gender\").where($\"branch\" \u003d\u003d\u003d \"08 - H. Transporte y almacenamiento\" \u0026\u0026 $\"gender\" \u003d\u003d\u003d \"2 - Mujer\" ).count\n"
    },
    {
      "cell_type": "code",
      "execution_count": 15,
      "metadata": {
        "autoscroll": "auto"
      },
      "outputs": [],
      "source": "// 12. ¿Cuántos trabajadores hubo en el año 2015, en el área Actividades financieras y de seguros?\ndata.select(\"year\").where($\"branch\" \u003d\u003d\u003d \"11 - K. Actividades financieras y de seguros\" \u0026\u0026 $\"year\" \u003d\u003d\u003d \"2015\").count "
    }
  ]
}