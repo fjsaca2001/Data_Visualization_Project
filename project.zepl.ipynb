﻿{
  "metadata": {
    "name": "Project",
    "kernelspec": {
      "display_name": "Scala",
      "language": "scala",
      "name": "spark2-scala"
    },
    "language_info": {
      "codemirror_mode": "text/x-scala",
      "file_extension": ".scala",
      "mimetype": "text/x-scala",
      "name": "scala",
      "pygments_lexer": "scala"
    }
  },
  "nbformat": 4,
  "nbformat_minor": 2,
  "cells": [
    {
      "cell_type": "code",
      "execution_count": 0,
      "metadata": {
        "autoscroll": "auto"
      },
      "outputs": [],
      "source": "val data \u003d spark\n    .read\n    .option(\"inferSchema\", \"true\")\n    .option(\"header\", \"true\")\n    .option(\"delimiter\", \"\\t\")\n    .csv(\"/Users/royerjmasache/Documents/course4/pAdvance/secondPeriod/project/Datos_ENEMDU_PEA_v2.csv\")"
    },
    {
      "cell_type": "code",
      "execution_count": 1,
      "metadata": {
        "autoscroll": "auto"
      },
      "outputs": [],
      "source": "// Definición del esquema de forma programable\nimport org.apache.spark.sql.types._\nval dataSchema \u003d StructType(\n    Array(\n        StructField(\"id\", DecimalType(26, 0), true),\n        StructField(\"year\", IntegerType, true),\n        StructField(\"month\", IntegerType, true),\n        StructField(\"province\", IntegerType, true),\n        StructField(\"canton\", IntegerType, true),\n        StructField(\"area\", StringType, true),\n        StructField(\"gender\", StringType, true),\n        StructField(\"age\", IntegerType, true),\n        StructField(\"status\", StringType, true),\n        StructField(\"instruction\", StringType, true),\n        StructField(\"ethnicity\", StringType, true),\n        StructField(\"salary\", IntegerType, true),\n        StructField(\"condition\", StringType, true),\n        StructField(\"sectorization\", StringType, true),\n        StructField(\"occupation\", StringType, true),\n        StructField(\"branch\", StringType, true),\n        StructField(\"factor\", DoubleType, true)\n    ));"
    },
    {
      "cell_type": "code",
      "execution_count": 2,
      "metadata": {
        "autoscroll": "auto"
      },
      "outputs": [],
      "source": "// Envío de esquema\nval data \u003d spark\n    .read\n    .schema(dataSchema)\n    .option(\"header\", \"true\")\n    .option(\"delimiter\", \"\\t\")\n    .csv(\"/Users/royerjmasache/Documents/course4/pAdvance/secondPeriod/project/Datos_ENEMDU_PEA_v2.csv\");"
    },
    {
      "cell_type": "code",
      "execution_count": 3,
      "metadata": {
        "autoscroll": "auto"
      },
      "outputs": [],
      "source": "// Impresión del esquema\ndata.printSchema\n// Impresión de la construcción del esquema\ndata.schema"
    },
    {
      "cell_type": "markdown",
      "metadata": {},
      "source": "**Pregunta 1**: ¿Cuántas personas de etnia \"indigena\" podemos encontrar en la rama: P enseñanza?"
    },
    {
      "cell_type": "code",
      "execution_count": 5,
      "metadata": {
        "autoscroll": "auto"
      },
      "outputs": [],
      "source": "data.where($\"branch\" \u003d\u003d\u003d \"16 - P. Enseñanza\" \u0026\u0026 $\"ethnicity\" \u003d\u003d\u003d \"1 - Indígena\").groupBy(\"ethnicity\").count().show()"
    },
    {
      "cell_type": "markdown",
      "metadata": {},
      "source": "**Pregunta 2**: ¿Cuántas mujeres pertenecen a la rama: F. construccion?"
    },
    {
      "cell_type": "code",
      "execution_count": 7,
      "metadata": {
        "autoscroll": "auto"
      },
      "outputs": [],
      "source": "data.select(\"branch\",\"gender\").where($\"gender\" \u003d\u003d\u003d \"2 - Mujer\" \u0026\u0026 $\"branch\" \u003d\u003d\u003d \"06 - F. Construcción\").count\ndata.where($\"branch\".isNull).count()"
    },
    {
      "cell_type": "markdown",
      "metadata": {},
      "source": "**Pregunta 3**: ¿Cuál es la media de edad de trabajadores que estan en el area: No especificado?"
    },
    {
      "cell_type": "code",
      "execution_count": 9,
      "metadata": {
        "autoscroll": "auto"
      },
      "outputs": [],
      "source": "val edadNoespecificado \u003d data.select(\"age\").where($\"branch\" \u003d\u003d\u003d \"22 - No especificado\")\nedadNoespecificado.select(mean(\"age\")).show()"
    },
    {
      "cell_type": "markdown",
      "metadata": {},
      "source": "**Pregunta 4**: ¿Cuál es el sueldo maximo que se gana en la rama: A. Agricultura, ganadería caza y silvicultura y pesca?"
    },
    {
      "cell_type": "code",
      "execution_count": 11,
      "metadata": {
        "autoscroll": "auto"
      },
      "outputs": [],
      "source": "val dataAgri \u003d data.select(\"salary\").where($\"branch\" \u003d\u003d\u003d \"01 - A. Agricultura, ganadería caza y silvicultura y pesca\")\ndataAgri.select(min(\"salary\") as(\"Sueldo Minimo\"), max(\"salary\") as(\"Sueldo Maximo\")).show()"
    },
    {
      "cell_type": "markdown",
      "metadata": {},
      "source": "**Pregunta 5**: ¿Cuántas personas poseen una instrucción Superior Universitario en la rama 13?"
    },
    {
      "cell_type": "code",
      "execution_count": 13,
      "metadata": {
        "autoscroll": "auto"
      },
      "outputs": [],
      "source": "val higher \u003d data.select(\"branch\", \"instruction\").where($\"branch\" \u003d\u003d\u003d \"13 - M. Actividades profesionales, científicas y técnicas\" \u0026\u0026 $\"instruction\" \u003d\u003d\u003d \"09 - Superior Universitario\")\nhigher.groupBy(\"branch\").count().show(false)"
    },
    {
      "cell_type": "markdown",
      "metadata": {},
      "source": "**Pregunta 6**: ¿Qué cantidad y qué porcentaje con respecto al total ocupan las personas con ocupación 02 dentro de la rama 13?"
    },
    {
      "cell_type": "code",
      "execution_count": 15,
      "metadata": {
        "autoscroll": "auto"
      },
      "outputs": [],
      "source": "\n\nval group \u003d data.where($\"branch\" \u003d\u003d\u003d \"13 - M. Actividades profesionales, científicas y técnicas\" \u0026\u0026 $\"occupation\" \u003d\u003d\u003d \"02 - Profesionales científicos e intelectuales\")\nprintln(group.count())\nval total \u003d (group.count() / data.select(\"branch\").count().toDouble) * 100\nprintf(\"El porcentaje respecto al total es de %.2f %%\\n\", total)"
    },
    {
      "cell_type": "markdown",
      "metadata": {},
      "source": "**Pregunta 7**: ¿Cuántas personas existen pertenecientes a la rama 13 con un Post-grado, solteros y con un sueldo \u003e\u003d 3000?"
    },
    {
      "cell_type": "code",
      "execution_count": 17,
      "metadata": {
        "autoscroll": "auto"
      },
      "outputs": [],
      "source": "val success \u003d data.filter($\"branch\" \u003d\u003d\u003d \"13 - M. Actividades profesionales, científicas y técnicas\" \u0026\u0026 $\"instruction\" \u003d\u003d\u003d \"10 - Post-grado\")\nsuccess.where($\"salary\" \u003e\u003d  3000 \u0026\u0026 $\"status\"\u003d\u003d\u003d \"6 - Soltero(a)\").groupBy(\"branch\").count().show(false)\n"
    },
    {
      "cell_type": "markdown",
      "metadata": {},
      "source": "**Pregunta 8**: ¿En qué cantidad y estado civil se encuentran las personas que ocupan la rama 11?"
    },
    {
      "cell_type": "code",
      "execution_count": 19,
      "metadata": {
        "autoscroll": "auto"
      },
      "outputs": [],
      "source": "val filter \u003d data.filter($\"branch\" \u003d\u003d\u003d \"11 - K. Actividades financieras y de seguros\")\nfilter.where($\"status\" \u003d\u003d\u003d \"1 - Casado(a)\" || $\"status\" \u003d\u003d\u003d \"2 - Separado(a)\" || $\"status\" \u003d\u003d\u003d \"3 - Divorciado(a)\" || $\"status\" \u003d\u003d\u003d \"4 - Viudo(a)\" || $\"status\" \u003d\u003d\u003d \"5 - Unión libre\" || $\"status\" \u003d\u003d\u003d \"6 - Soltero(a)\").groupBy(\"status\").count().sort(desc(\"count\")).show(false)"
    },
    {
      "cell_type": "markdown",
      "metadata": {},
      "source": "**Pregunta 9**: Número de personas que pertencen a loja y a la rama Agricultura, ganadería caza y silvicultura y pesca"
    },
    {
      "cell_type": "code",
      "execution_count": 21,
      "metadata": {
        "autoscroll": "auto"
      },
      "outputs": [],
      "source": "data.where($\"branch\" \u003d\u003d\u003d \"01 - A. Agricultura, ganadería caza y silvicultura y pesca\" \u0026\u0026 $\"province\" \u003d\u003d\u003d 11).groupBy(\"province\").count().show(false)"
    },
    {
      "cell_type": "markdown",
      "metadata": {},
      "source": "**Pregunta 10**: Edad mínima para trabajar en la rama información y comunicación\n"
    },
    {
      "cell_type": "code",
      "execution_count": 23,
      "metadata": {
        "autoscroll": "auto"
      },
      "outputs": [],
      "source": "val minedad \u003d data.select(\"age\").where($\"branch\" \u003d\u003d\u003d \"10 - J. Información y comunicación\")\nminedad.select(min(\"age\")).show()"
    },
    {
      "cell_type": "markdown",
      "metadata": {},
      "source": "**Pregunta 11**: ¿Cuántas mujeres están dentro de transporte y almacenamiento?"
    },
    {
      "cell_type": "code",
      "execution_count": 25,
      "metadata": {
        "autoscroll": "auto"
      },
      "outputs": [],
      "source": "data.select(\"gender\").where($\"branch\" \u003d\u003d\u003d \"08 - H. Transporte y almacenamiento\" \u0026\u0026 $\"gender\" \u003d\u003d\u003d \"2 - Mujer\" ).count()"
    },
    {
      "cell_type": "markdown",
      "metadata": {},
      "source": "**Pregunta 12**: ¿Cuántos trabajadores hubo en el año 2015, en el área Actividades financieras y de seguros?"
    },
    {
      "cell_type": "code",
      "execution_count": 27,
      "metadata": {
        "autoscroll": "auto"
      },
      "outputs": [],
      "source": "data.select(\"year\").where($\"branch\" \u003d\u003d\u003d \"11 - K. Actividades financieras y de seguros\" \u0026\u0026 $\"year\" \u003d\u003d\u003d \"2015\").count()"
    },
    {
      "cell_type": "markdown",
      "metadata": {},
      "source": "## Uso de crosstab, Pivot tables y z.show"
    },
    {
      "cell_type": "markdown",
      "metadata": {},
      "source": "### Análisis mejorado y visualización de Pregunta 1\n¿Cuál es la frecuencia de hombres y mujeres existentes en las distintas categorías de nivel de estudio?"
    },
    {
      "cell_type": "code",
      "execution_count": 30,
      "metadata": {
        "autoscroll": "auto"
      },
      "outputs": [],
      "source": "z.show(data.groupBy(\"branch\").pivot(\"gender\").count.orderBy(\"branch\"))"
    },
    {
      "cell_type": "markdown",
      "metadata": {},
      "source": "### Análisis mejorado y visualización de Pregunta 2\n¿Cuál es la actividad a la que se dedican las personas que son de etnia \"Indigena\"?"
    },
    {
      "cell_type": "code",
      "execution_count": 32,
      "metadata": {
        "autoscroll": "auto"
      },
      "outputs": [],
      "source": "val etniaAct \u003d data.where($\"ethnicity\" \u003d\u003d\u003d \"1 - Indígena\").groupBy(\"branch\").count.orderBy($\"count\".desc)\nz.show(etniaAct.select($\"branch\" as (\"Actividad\"), $\"count\" as (\"Total\")));\n"
    },
    {
      "cell_type": "markdown",
      "metadata": {},
      "source": "###  Análisis mejorado y visualización de Pregunta 3\n¿Cuál es la media de edad en cada área?"
    },
    {
      "cell_type": "code",
      "execution_count": 34,
      "metadata": {
        "autoscroll": "auto"
      },
      "outputs": [],
      "source": "val meanEdad \u003d data.groupBy(\"branch\").agg(round(mean(\"age\")).cast(IntegerType)).orderBy(\"CAST(round(avg(age), 0) AS INT)\")\nz.show(meanEdad.select($\"branch\" as (\"Actividad\"), $\"CAST(round(avg(age), 0) AS INT)\" as (\"Edad Media\")));\n"
    },
    {
      "cell_type": "markdown",
      "metadata": {},
      "source": "### Análisis mejorado y visualización de Pregunta 4\n¿Cuál es el cambio de sueldo según los años en la rama A. Agricultura, ganadería caza y silvicultura y pesca?"
    },
    {
      "cell_type": "code",
      "execution_count": 36,
      "metadata": {
        "autoscroll": "auto"
      },
      "outputs": [],
      "source": "\n\nz.show(data.where($\"branch\" \u003d\u003d\u003d \"01 - A. Agricultura, ganadería caza y silvicultura y pesca\").groupBy(\"year\").pivot(\"gender\").agg(round(avg(\"salary\")).cast(IntegerType)).orderBy(\"year\"));"
    },
    {
      "cell_type": "markdown",
      "metadata": {},
      "source": "### Análisis mejorado y visualización de Pregunta 5\nAmpliación de la columna *\"instruction\"* para una mejor obtención de información. Se compara crosstab y Pivot table"
    },
    {
      "cell_type": "code",
      "execution_count": 38,
      "metadata": {
        "autoscroll": "auto"
      },
      "outputs": [],
      "source": "val academic \u003d data.select(\"branch\", \"instruction\").where($\"branch\" \u003d\u003d\u003d \"13 - M. Actividades profesionales, científicas y técnicas\")\nacademic.groupBy(\"branch\")\n// crosstab\nval cross \u003d academic.stat.crosstab(\"branch\", \"instruction\").orderBy(\"branch_instruction\")\ncross.show()\n// Pivot table\nacademic.groupBy(\"branch\").pivot(\"instruction\").count().orderBy(\"branch\").show()"
    },
    {
      "cell_type": "markdown",
      "metadata": {},
      "source": "Mejor visualización mediante el uso de **z.show**"
    },
    {
      "cell_type": "code",
      "execution_count": 40,
      "metadata": {
        "autoscroll": "auto"
      },
      "outputs": [],
      "source": "z.show(academic.groupBy(\"branch\").pivot(\"instruction\").count().orderBy(\"branch\"))"
    },
    {
      "cell_type": "markdown",
      "metadata": {},
      "source": "### Análisis mejorado y visualización de pregunta 6\nAmpliación y cálculo del porcentaje en función de la variable *\"occupation\"* y condición elegidas"
    },
    {
      "cell_type": "code",
      "execution_count": 42,
      "metadata": {
        "autoscroll": "auto"
      },
      "outputs": [],
      "source": "val group2 \u003d data.select(\"branch\", \"occupation\").where($\"branch\" \u003d\u003d\u003d \"13 - M. Actividades profesionales, científicas y técnicas\")\ngroup2.count()\nval total \u003d (group.count() / group2.count().toDouble) * 100\nprintf(\"El porcentaje respecto al total de la rama es de %.2f %%\\n\", total)"
    },
    {
      "cell_type": "code",
      "execution_count": 43,
      "metadata": {
        "autoscroll": "auto"
      },
      "outputs": [],
      "source": "z.show(group2.groupBy(\"branch\").pivot(\"occupation\").count().orderBy(\"branch\"))"
    },
    {
      "cell_type": "markdown",
      "metadata": {},
      "source": "### Análisis mejorado y visualización de Pregunta 7\nAmpliación de variable elegida para un resumen de datos más comprensible"
    },
    {
      "cell_type": "code",
      "execution_count": 45,
      "metadata": {
        "autoscroll": "auto"
      },
      "outputs": [],
      "source": "\n\nval success2 \u003d data.select(\"branch\", \"instruction\").where($\"instruction\" \u003d\u003d\u003d \"10 - Post-grado\" \u0026\u0026 $\"salary\" \u003e\u003d  3000 \u0026\u0026 $\"status\"\u003d\u003d\u003d \"6 - Soltero(a)\").sort(desc(\"branch\"))\nz.show(success2.groupBy(\"branch\").pivot(\"instruction\").count().orderBy(\"branch\"))"
    },
    {
      "cell_type": "markdown",
      "metadata": {},
      "source": "Visualización de **Pregunta 8**"
    },
    {
      "cell_type": "code",
      "execution_count": 47,
      "metadata": {
        "autoscroll": "auto"
      },
      "outputs": [],
      "source": "z.show(filter.groupBy(\"branch\").pivot(\"status\").count().orderBy(\"branch\"))"
    },
    {
      "cell_type": "markdown",
      "metadata": {},
      "source": "### Análisis"
    }
  ]
}