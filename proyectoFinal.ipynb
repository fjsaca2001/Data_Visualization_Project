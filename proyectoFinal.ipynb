﻿{
  "metadata": {
    "name": "Proyecto Final",
    "kernelspec": {
      "language": "scala",
      "name": "spark2-scala"
    },
    "language_info": {
      "codemirror_mode": "text/x-scala",
      "file_extension": ".scala",
      "mimetype": "text/x-scala",
      "name": "scala",
      "pygments_lexer": "scala"
    }
  },
  "nbformat": 4,
  "nbformat_minor": 2,
  "cells": [
    {
      "cell_type": "markdown",
      "metadata": {},
      "source": "# Desarrollo\n## Carga del DataFrame"
    },
    {
      "cell_type": "code",
      "execution_count": 1,
      "metadata": {
        "autoscroll": "auto"
      },
      "outputs": [],
      "source": "val data \u003d spark\n    .read\n    .option(\"inferSchema\", \"true\")\n    .option(\"header\", \"true\")\n    .option(\"delimiter\", \"\\t\")\n    .csv(\"/Users/rjmasache/Documents/course4/pAdvance/secondPeriod/project/Datos_ENEMDU_PEA_v2.csv\")"
    },
    {
      "cell_type": "markdown",
      "metadata": {},
      "source": "Definición del esquema de forma programable"
    },
    {
      "cell_type": "code",
      "execution_count": 3,
      "metadata": {
        "autoscroll": "auto"
      },
      "outputs": [],
      "source": "import org.apache.spark.sql.types._\nval dataSchema \u003d StructType(\n    Array(\n        StructField(\"id\", DecimalType(26, 0), true),\n        StructField(\"anio\", IntegerType, true),\n        StructField(\"mes\", IntegerType, true),\n        StructField(\"provincia\", IntegerType, true),\n        StructField(\"canton\", IntegerType, true),\n        StructField(\"area\", StringType, true),\n        StructField(\"genero\", StringType, true),\n        StructField(\"edad\", IntegerType, true),\n        StructField(\"estado\", StringType, true),\n        StructField(\"instruccion\", StringType, true),\n        StructField(\"etnia\", StringType, true),\n        StructField(\"ingreso\", IntegerType, true),\n        StructField(\"condicion\", StringType, true),\n        StructField(\"sectorizacion\", StringType, true),\n        StructField(\"ocupacion\", StringType, true),\n        StructField(\"rama\", StringType, true),\n        StructField(\"factor\", DoubleType, true)\n    ));"
    },
    {
      "cell_type": "markdown",
      "metadata": {},
      "source": "Envío del esquema"
    },
    {
      "cell_type": "code",
      "execution_count": 5,
      "metadata": {
        "autoscroll": "auto"
      },
      "outputs": [],
      "source": "val data \u003d spark\n    .read\n    .schema(dataSchema)\n    .option(\"header\", \"true\")\n    .option(\"delimiter\", \"\\t\")\n    .csv(\"/Users/rjmasache/Documents/course4/pAdvance/secondPeriod/project/Datos_ENEMDU_PEA_v2.csv\");\n"
    },
    {
      "cell_type": "markdown",
      "metadata": {},
      "source": "Carga de DataFrames y uso de Inner join para unir las columnas **provincia** y **canton** con sus nombres respectivos"
    },
    {
      "cell_type": "code",
      "execution_count": 7,
      "metadata": {
        "autoscroll": "auto"
      },
      "outputs": [],
      "source": "val province \u003d spark\n  .read\n  .option(\"InferSchema\",\"true\")\n  .option(\"header\",\"true\")\n  .option(\"delimiter\",\"\\t\")\n  .csv(\"/Users/rjmasache/Documents/course4/pAdvance/secondPeriod/project/provincias.csv\")"
    },
    {
      "cell_type": "code",
      "execution_count": 8,
      "metadata": {
        "autoscroll": "auto"
      },
      "outputs": [],
      "source": "val canton \u003d spark\n  .read\n  .option(\"InferSchema\",\"true\")\n  .option(\"header\",\"true\")\n  .option(\"delimiter\",\"\\t\")\n  .csv(\"/Users/rjmasache/Documents/course4/pAdvance/secondPeriod/project/cantones.csv\")"
    },
    {
      "cell_type": "code",
      "execution_count": 9,
      "metadata": {
        "autoscroll": "auto"
      },
      "outputs": [],
      "source": "val innerProvince \u003d data.join(province, data(\"provincia\") \u003d\u003d\u003d province(\"codigoProvincia\"), \"inner\")"
    },
    {
      "cell_type": "code",
      "execution_count": 10,
      "metadata": {
        "autoscroll": "auto"
      },
      "outputs": [],
      "source": "// z.show(innerProvince.select(\"provincia\", \"codigoProvincia\", \"nombreProvincia\").orderBy($\"provincia\").distinct)"
    },
    {
      "cell_type": "code",
      "execution_count": 11,
      "metadata": {
        "autoscroll": "auto"
      },
      "outputs": [],
      "source": "val innerCanton \u003d innerProvince.join(canton, innerProvince(\"canton\") \u003d\u003d\u003d canton(\"codigoCanton\"), \"inner\")"
    },
    {
      "cell_type": "code",
      "execution_count": 12,
      "metadata": {
        "autoscroll": "auto"
      },
      "outputs": [],
      "source": "// z.show(innerCanton)"
    },
    {
      "cell_type": "markdown",
      "metadata": {},
      "source": "Eliminación de columnas repetidas para la obtención del DataFrame final"
    },
    {
      "cell_type": "code",
      "execution_count": 14,
      "metadata": {
        "autoscroll": "auto"
      },
      "outputs": [],
      "source": "val finalData \u003d innerCanton.drop(\"provincia\", \"canton\")\n// z.show(finalData)\n"
    },
    {
      "cell_type": "markdown",
      "metadata": {},
      "source": "## Análisis de las variables del DataFrame basado en cuestiones"
    },
    {
      "cell_type": "markdown",
      "metadata": {},
      "source": "**Pregunta 1**: ¿Cuántas personas de etnia *Indígena* podemos encontrar en la rama *P enseñanza*?"
    },
    {
      "cell_type": "code",
      "execution_count": 17,
      "metadata": {
        "autoscroll": "auto"
      },
      "outputs": [],
      "source": "finalData.where($\"rama\" \u003d\u003d\u003d \"16 - P. Enseñanza\" \u0026\u0026 $\"etnia\" \u003d\u003d\u003d \"1 - Indígena\").groupBy(\"etnia\").count().show()"
    },
    {
      "cell_type": "markdown",
      "metadata": {},
      "source": "**Pregunta 2**: ¿Cuántas mujeres pertenecen a la rama *F. construccion*?"
    },
    {
      "cell_type": "code",
      "execution_count": 19,
      "metadata": {
        "autoscroll": "auto"
      },
      "outputs": [],
      "source": "finalData.where($\"genero\" \u003d\u003d\u003d \"2 - Mujer\" \u0026\u0026 $\"rama\" \u003d\u003d\u003d \"06 - F. Construcción\").count()"
    },
    {
      "cell_type": "markdown",
      "metadata": {},
      "source": "**Pregunta 3**: ¿Cuál es la media de edad de trabajadores que estan en la rama *No especificado*?"
    },
    {
      "cell_type": "code",
      "execution_count": 21,
      "metadata": {
        "autoscroll": "auto"
      },
      "outputs": [],
      "source": "val mediaEdadNE \u003d finalData.select(\"edad\").where($\"rama\" \u003d\u003d\u003d \"22 - No especificado\")\nmediaEdadNE.select(mean(\"edad\")).show()"
    },
    {
      "cell_type": "markdown",
      "metadata": {},
      "source": "**Pregunta 4**: ¿Cuál es el sueldo mínimo y máximo que se gana en la rama *A. Agricultura, ganadería caza y silvicultura y pesca*?"
    },
    {
      "cell_type": "code",
      "execution_count": 23,
      "metadata": {
        "autoscroll": "auto"
      },
      "outputs": [],
      "source": "val sueldo \u003d finalData.select(\"ingreso\").where($\"rama\" \u003d\u003d\u003d \"01 - A. Agricultura, ganadería caza y silvicultura y pesca\")\nsueldo.select(min(\"ingreso\") as (\"Sueldo mínimo\"), max(\"ingreso\") as (\"Sueldo máximo\")).show()"
    },
    {
      "cell_type": "markdown",
      "metadata": {},
      "source": "**Pregunta 5**: ¿Cuántas personas que trabajan en la rama  de *Actividades profesionales, científicas y técnicas* poseen una instrucción *Superior Universitario*?"
    },
    {
      "cell_type": "code",
      "execution_count": 25,
      "metadata": {
        "autoscroll": "auto"
      },
      "outputs": [],
      "source": "val higher \u003d finalData.select(\"rama\", \"instruccion\")\n    .where($\"rama\" \u003d\u003d\u003d \"13 - M. Actividades profesionales, científicas y técnicas\" \u0026\u0026 $\"instruccion\" \u003d\u003d\u003d \"09 - Superior Universitario\")\nhigher.groupBy(\"rama\").count().show(false)"
    },
    {
      "cell_type": "markdown",
      "metadata": {},
      "source": "**Pregunta 6**: ¿Qué cantidad y qué porcentaje ocupan las personas *profesionales científicos e intelectuales* dentro de la rama de *Actividades profesionales, científicas y técnicas*?"
    },
    {
      "cell_type": "code",
      "execution_count": 27,
      "metadata": {
        "autoscroll": "auto"
      },
      "outputs": [],
      "source": "val group \u003d finalData.where($\"rama\" \u003d\u003d\u003d \"13 - M. Actividades profesionales, científicas y técnicas\" \u0026\u0026 $\"ocupacion\" \u003d\u003d\u003d \"02 - Profesionales científicos e intelectuales\")\nprintf(\"Cantidad: %d\\n\", group.count())\nval total \u003d (group.count() / finalData.where($\"rama\" \u003d\u003d\u003d \"13 - M. Actividades profesionales, científicas y técnicas\").count().toDouble) * 100\nprintf(\"El porcentaje es de %.2f %%\\n\", total)"
    },
    {
      "cell_type": "markdown",
      "metadata": {},
      "source": "**Pregunta 7**: ¿Cuántas personas pertenecientes a la rama de *Actividades profesionales, científicas y técnicas* tienen un *Post-grado*, son solteros y sueldo superior al rango establecido?"
    },
    {
      "cell_type": "code",
      "execution_count": 29,
      "metadata": {
        "autoscroll": "auto"
      },
      "outputs": [],
      "source": "// Verificar si existen valores nulos en los datos\nfinalData.select(\"ingreso\").groupBy(\"ingreso\").count().sort($\"count\".desc).show(5)\n// Seleccionar los datos que no poseen valores nulos\nval notNull \u003d finalData.select(\"ingreso\").where($\"ingreso\".isNotNull)\n"
    },
    {
      "cell_type": "markdown",
      "metadata": {},
      "source": "**Obtener los cuartiles**"
    },
    {
      "cell_type": "code",
      "execution_count": 31,
      "metadata": {
        "autoscroll": "auto"
      },
      "outputs": [],
      "source": "finalData.select(\"ingreso\").summary().show()\nval quartile \u003d notNull.stat.approxQuantile(\"ingreso\", Array(0.25, 0.75), 0.0)\nval q1 \u003d quartile(0)\nval q3 \u003d quartile(1)"
    },
    {
      "cell_type": "markdown",
      "metadata": {},
      "source": "**Calcular el rango intercuartil (IQR)**\n"
    },
    {
      "cell_type": "code",
      "execution_count": 33,
      "metadata": {
        "autoscroll": "auto"
      },
      "outputs": [],
      "source": "val iqr \u003d q3 - q1"
    },
    {
      "cell_type": "markdown",
      "metadata": {},
      "source": "**Calcular los límites**\n"
    },
    {
      "cell_type": "code",
      "execution_count": 35,
      "metadata": {
        "autoscroll": "auto"
      },
      "outputs": [],
      "source": "val lowerIQR \u003d q1 - 1.5 * iqr\nval higherIQR \u003d q3 + 1.5 * iqr"
    },
    {
      "cell_type": "markdown",
      "metadata": {},
      "source": "**Filtrar inferiores y superiores**\n"
    },
    {
      "cell_type": "code",
      "execution_count": 37,
      "metadata": {
        "autoscroll": "auto"
      },
      "outputs": [],
      "source": "val lowerValue \u003d notNull.where($\"ingreso\" \u003c lowerIQR)\nlowerValue.summary().show()"
    },
    {
      "cell_type": "code",
      "execution_count": 38,
      "metadata": {
        "autoscroll": "auto"
      },
      "outputs": [],
      "source": "val higherValue \u003d notNull.where($\"ingreso\" \u003e higherIQR)\nhigherValue.summary().show()"
    },
    {
      "cell_type": "code",
      "execution_count": 39,
      "metadata": {
        "autoscroll": "auto"
      },
      "outputs": [],
      "source": "val dataIQR \u003d notNull.where($\"ingreso\" \u003e lowerIQR \u0026\u0026 $\"ingreso\" \u003c higherIQR)\ndataIQR.select(\"ingreso\").summary().show()"
    },
    {
      "cell_type": "markdown",
      "metadata": {},
      "source": "**Uso del valor de referencia**"
    },
    {
      "cell_type": "code",
      "execution_count": 41,
      "metadata": {
        "autoscroll": "auto"
      },
      "outputs": [],
      "source": "val success \u003d finalData.filter($\"rama\" \u003d\u003d\u003d \"13 - M. Actividades profesionales, científicas y técnicas\" \u0026\u0026 $\"instruccion\" \u003d\u003d\u003d \"10 - Post-grado\")\nsuccess.where($\"ingreso\" \u003e 1214 \u0026\u0026 $\"estado\"\u003d\u003d\u003d \"6 - Soltero(a)\").groupBy(\"rama\").count().show(false)"
    },
    {
      "cell_type": "markdown",
      "metadata": {},
      "source": "**Pregunta 8**: ¿Cuál es la cantidad de personas que trabajan dentro de la rama *Actividades profesionales, científicas y técnicas* dentro de cada provincia?"
    },
    {
      "cell_type": "code",
      "execution_count": 43,
      "metadata": {
        "autoscroll": "auto"
      },
      "outputs": [],
      "source": "val quantity \u003d finalData.select(\"rama\", \"nombreProvincia\").where($\"rama\" \u003d\u003d\u003d \"13 - M. Actividades profesionales, científicas y técnicas\")\nquantity.groupBy(\"nombreProvincia\").count().sort(desc(\"count\")).show(24)"
    },
    {
      "cell_type": "markdown",
      "metadata": {},
      "source": "**Pregunta 9**: ¿Cuál es el número de personas que pertencen a la rama *Agricultura, ganadería, caza, silvicultura y pesca* dentro de la provincia de Loja?"
    },
    {
      "cell_type": "code",
      "execution_count": 45,
      "metadata": {
        "autoscroll": "auto"
      },
      "outputs": [],
      "source": "EfinalData.where($\"rama\" \u003d\u003d\u003d \"01 - A. Agricultura, ganadería caza y silvicultura y pesca\" \u0026\u0026 $\"nombreProvincia\" \u003d\u003d\u003d \"Loja\")\n    .groupBy(\"nombreProvincia\").count().show(false)"
    },
    {
      "cell_type": "markdown",
      "metadata": {},
      "source": "**Pregunta 10**: ¿Cuál es la edad mínima para trabajar en la rama de *Información y comunicación*?"
    },
    {
      "cell_type": "code",
      "execution_count": 47,
      "metadata": {
        "autoscroll": "auto"
      },
      "outputs": [],
      "source": "val minEdad \u003d finalData.select(\"edad\").where($\"rama\" \u003d\u003d\u003d \"10 - J. Información y comunicación\")\nminEdad.select(min(\"edad\")).show()"
    },
    {
      "cell_type": "markdown",
      "metadata": {},
      "source": "**Pregunta 11**: ¿Cuántas mujeres  pertenencen a la rama de *Transporte y almacenamiento*?"
    },
    {
      "cell_type": "code",
      "execution_count": 49,
      "metadata": {
        "autoscroll": "auto"
      },
      "outputs": [],
      "source": "finalData.select(\"genero\").where($\"rama\" \u003d\u003d\u003d \"08 - H. Transporte y almacenamiento\" \u0026\u0026 $\"genero\" \u003d\u003d\u003d \"2 - Mujer\" ).count()"
    },
    {
      "cell_type": "markdown",
      "metadata": {},
      "source": "**Pregunta 12**: ¿Cuántos trabajadores hubo dentro del área *Actividades financieras y de seguros* en el año 2015?"
    },
    {
      "cell_type": "code",
      "execution_count": 51,
      "metadata": {
        "autoscroll": "auto"
      },
      "outputs": [],
      "source": "finalData.select(\"anio\").where($\"rama\" \u003d\u003d\u003d \"11 - K. Actividades financieras y de seguros\" \u0026\u0026 $\"anio\" \u003d\u003d\u003d \"2015\").count()"
    },
    {
      "cell_type": "markdown",
      "metadata": {},
      "source": "## Análisis detallado y visualización de las cuestiones presentadas"
    },
    {
      "cell_type": "markdown",
      "metadata": {},
      "source": "### Visualización 1\n* ¿Cuál es la frecuencia de hombres y mujeres existentes en las distintas categorías de nivel de estudio?"
    },
    {
      "cell_type": "code",
      "execution_count": 54,
      "metadata": {
        "autoscroll": "auto"
      },
      "outputs": [],
      "source": "z.show(finalData.groupBy(\"rama\").pivot(\"genero\").count().orderBy(\"rama\"))"
    },
    {
      "cell_type": "markdown",
      "metadata": {},
      "source": "### Visualización 2\n* ¿Cuál es la actividad a la que se dedican las personas que son de etnia *Indígena*?"
    },
    {
      "cell_type": "code",
      "execution_count": 56,
      "metadata": {
        "autoscroll": "auto"
      },
      "outputs": [],
      "source": "val actividad \u003d finalData.where($\"etnia\" \u003d\u003d\u003d \"1 - Indígena\").groupBy(\"rama\").count.orderBy($\"count\".desc)\nz.show(actividad.select($\"rama\" as (\"Actividad\"), $\"count\" as (\"Total\")));"
    },
    {
      "cell_type": "markdown",
      "metadata": {},
      "source": "### Visualización 3\n* ¿Cuál es la media de edad en cada área?"
    },
    {
      "cell_type": "code",
      "execution_count": 58,
      "metadata": {
        "autoscroll": "auto"
      },
      "outputs": [],
      "source": "val meanEdad \u003d finalData.groupBy(\"rama\").agg(round(mean(\"edad\")).cast(IntegerType)).orderBy(\"CAST(round(avg(edad), 0) AS INT)\")\nz.show(meanEdad.select($\"rama\" as (\"Actividad\"), $\"CAST(round(avg(edad), 0) AS INT)\" as (\"Edad Media\")));\n"
    },
    {
      "cell_type": "markdown",
      "metadata": {},
      "source": "### Visualización 4\n* ¿Cuál es el cambio de sueldo según los años en la rama *A. Agricultura, ganadería caza y silvicultura y pesca*?"
    },
    {
      "cell_type": "code",
      "execution_count": 60,
      "metadata": {
        "autoscroll": "auto"
      },
      "outputs": [],
      "source": "z.show(data.where($\"rama\" \u003d\u003d\u003d \"01 - A. Agricultura, ganadería caza y silvicultura y pesca\")\n    .groupBy(\"anio\").pivot(\"genero\").agg(round(avg(\"ingreso\")).cast(IntegerType)).orderBy(\"anio\"));"
    },
    {
      "cell_type": "markdown",
      "metadata": {},
      "source": "### Visualización 5\n* Ampliación de la columna **instruccion** para una mejor obtención de información"
    },
    {
      "cell_type": "code",
      "execution_count": 62,
      "metadata": {
        "autoscroll": "auto"
      },
      "outputs": [],
      "source": "val higher2 \u003d finalData.select(\"rama\", \"instruccion\").where($\"rama\" \u003d\u003d\u003d \"13 - M. Actividades profesionales, científicas y técnicas\")\nz.show(higher2.groupBy(\"rama\").pivot(\"instruccion\").count().orderBy(\"rama\"))"
    },
    {
      "cell_type": "markdown",
      "metadata": {},
      "source": "### Visualización 6\n* Ampliación y cálculo del porcentaje en función de la variable **occupacion** y condición elegidas"
    },
    {
      "cell_type": "code",
      "execution_count": 64,
      "metadata": {
        "autoscroll": "auto"
      },
      "outputs": [],
      "source": "val group2 \u003d data.select(\"rama\", \"ocupacion\").where($\"rama\" \u003d\u003d\u003d \"13 - M. Actividades profesionales, científicas y técnicas\")\nz.show(group2.groupBy(\"rama\").pivot(\"ocupacion\").count().orderBy(\"rama\"))\n\n"
    },
    {
      "cell_type": "markdown",
      "metadata": {},
      "source": "### Visualización 7\n* Ampliación de variable elegida para un resumen de datos más comprensible"
    },
    {
      "cell_type": "code",
      "execution_count": 66,
      "metadata": {
        "autoscroll": "auto"
      },
      "outputs": [],
      "source": "val success2 \u003d finalData.select(\"rama\", \"instruccion\", \"estado\")\n    .where($\"instruccion\" \u003d\u003d\u003d \"10 - Post-grado\" \u0026\u0026 $\"ingreso\" \u003e 1214 \u0026\u0026 $\"estado\" \u003d\u003d\u003d \"6 - Soltero(a)\").sort(desc(\"rama\"))\nz.show(success2.groupBy(\"rama\", \"estado\").pivot(\"instruccion\").count().orderBy(\"rama\"))\n"
    },
    {
      "cell_type": "markdown",
      "metadata": {},
      "source": "### Visualización 8\n* Visualización de la cantidad de personas que trabajan dentro de la rama *Actividades profesionales, científicas y técnicas* dentro de cada provincia"
    },
    {
      "cell_type": "code",
      "execution_count": 68,
      "metadata": {
        "autoscroll": "auto"
      },
      "outputs": [],
      "source": "z.show(quantity.groupBy(\"nombreProvincia\").pivot(\"rama\").count().orderBy(\"nombreProvincia\"))"
    },
    {
      "cell_type": "markdown",
      "metadata": {},
      "source": "### Visualización 9\n* Ingreso máximo por el estado civil"
    },
    {
      "cell_type": "code",
      "execution_count": 70,
      "metadata": {
        "autoscroll": "auto"
      },
      "outputs": [],
      "source": "val maxIngreso \u003d finalData.groupBy(\"anio\").pivot(\"estado\").max(\"ingreso\").orderBy(\"anio\")\nz.show(maxIngreso)"
    },
    {
      "cell_type": "markdown",
      "metadata": {},
      "source": "### Visualización 10\n* Ingresos máximos según género"
    },
    {
      "cell_type": "code",
      "execution_count": 72,
      "metadata": {
        "autoscroll": "auto"
      },
      "outputs": [],
      "source": "val maxGenero \u003d finalData.groupBy(\"anio\").pivot(\"genero\").max(\"ingreso\").orderBy(\"anio\")\nz.show(maxGenero)"
    },
    {
      "cell_type": "markdown",
      "metadata": {},
      "source": "### Visualización 11\n* Promedio de ingreso según las etnias"
    },
    {
      "cell_type": "code",
      "execution_count": 74,
      "metadata": {
        "autoscroll": "auto"
      },
      "outputs": [],
      "source": "val etnias \u003d finalData.select($\"etnia\", $\"ingreso\").groupBy(\"etnia\").avg(\"ingreso\").sort(desc(\"avg(ingreso)\"))\nz.show(etnias)"
    },
    {
      "cell_type": "markdown",
      "metadata": {},
      "source": "### Visualización 12\n* Ingresos por género segun la rama"
    },
    {
      "cell_type": "code",
      "execution_count": 76,
      "metadata": {
        "autoscroll": "auto"
      },
      "outputs": [],
      "source": "finalData.groupBy(\"rama\").pivot(\"genero\").max(\"ingreso\").orderBy(\"rama\")\nval ingresoRama \u003d data.groupBy(\"rama\").pivot(\"genero\").max(\"ingreso\").orderBy(\"rama\")\nz.show(ingresoRama)"
    },
    {
      "cell_type": "markdown",
      "metadata": {},
      "source": "## Spark SQL"
    },
    {
      "cell_type": "code",
      "execution_count": 78,
      "metadata": {
        "autoscroll": "auto"
      },
      "outputs": [],
      "source": "finalData.createOrReplaceTempView(\"MySQLTable\")"
    },
    {
      "cell_type": "markdown",
      "metadata": {},
      "source": "**Consultas:**"
    },
    {
      "cell_type": "markdown",
      "metadata": {},
      "source": "* Consulta que devuelve la edad promedio de las personas encuestadas"
    },
    {
      "cell_type": "code",
      "execution_count": 81,
      "metadata": {
        "autoscroll": "auto"
      },
      "outputs": [],
      "source": "spark.sql(\"\"\"\n    SELECT AVG(ms.edad)\n    FROM MySQLTable ms\n\"\"\")\n    .show()\n"
    },
    {
      "cell_type": "markdown",
      "metadata": {},
      "source": "* Consulta que devuelve el número de hombres y mujeres casados a los 18 años"
    },
    {
      "cell_type": "code",
      "execution_count": 83,
      "metadata": {
        "autoscroll": "auto"
      },
      "outputs": [],
      "source": "spark.sql(\"\"\"\n    SELECT count(*), ms.genero\n    FROM MySQLTable ms\n    WHERE ms.estado \u003d \u00271 - Casado(a)\u0027 AND ms.edad \u003d 18\n    GROUP BY ms.genero\n\"\"\")\n    .show()\n"
    },
    {
      "cell_type": "markdown",
      "metadata": {},
      "source": "* Consulta que devuelve el número de mujeres que poseen un empleo no remunerado por cada provincia"
    },
    {
      "cell_type": "code",
      "execution_count": 85,
      "metadata": {
        "autoscroll": "auto"
      },
      "outputs": [],
      "source": "spark.sql(\"\"\"\n    SELECT COUNT(*), ms.nombreProvincia\n    FROM MySQLTable ms\n    WHERE ms.genero \u003d \u00272 - Mujer\u0027 AND ms.condicion \u003d \u00275 - Empleo no remunerado\u0027\n    GROUP BY ms.nombreProvincia\n    ORDER BY COUNT(*) DESC\n\"\"\")\n    .show(24, false)"
    },
    {
      "cell_type": "markdown",
      "metadata": {},
      "source": "* Consulta que devuelve el número de hombres y mujeres que pertenencen a las fuerzas armadas y cuentan con un título universitario"
    },
    {
      "cell_type": "code",
      "execution_count": 87,
      "metadata": {
        "autoscroll": "auto"
      },
      "outputs": [],
      "source": "spark.sql(\"\"\"\n    SELECT COUNT(*)\n    FROM MySQLTable ms\n    WHERE ms.genero \u003d \u00272 - Mujer\u0027 AND ms.ocupacion \u003d \u002710 - Fuerzas Armadas\u0027 AND ms.instruccion \u003d \u002709 - Superior Universitario\u0027\n\"\"\")\n    .show(false)"
    },
    {
      "cell_type": "markdown",
      "metadata": {},
      "source": "* Consulta que devuelve el número de hombres y mujeres que tienen un Post-grado dentro de cada provincia"
    },
    {
      "cell_type": "code",
      "execution_count": 89,
      "metadata": {
        "autoscroll": "auto"
      },
      "outputs": [],
      "source": "spark.sql(\"\"\"\n    SELECT COUNT(*), ms.genero, ms.nombreProvincia\n    FROM MySQLTable ms\n    WHERE instruccion \u003d \u002710 - Post-grado\u0027\n    GROUP BY ms.genero, ms.nombreProvincia\n    ORDER BY ms.nombreProvincia \n\"\"\")\n    .show(48, false)"
    },
    {
      "cell_type": "markdown",
      "metadata": {},
      "source": "* Consulta que devuelve el número total de desempleados por cada provincia"
    },
    {
      "cell_type": "code",
      "execution_count": 91,
      "metadata": {
        "autoscroll": "auto"
      },
      "outputs": [],
      "source": "spark.sql(\"\"\"\n    SELECT ms.nombreProvincia, COUNT(*)\n    FROM MySQLTable ms\n    WHERE ms.condicion LIKE \u0027%Desempleo%\u0027\n    GROUP BY ms.nombreProvincia\n    ORDER BY 2 DESC\n\"\"\")\n    .show(24, false)"
    },
    {
      "cell_type": "markdown",
      "metadata": {},
      "source": ""
    }
  ]
}